# Cell 1: Load data
import pandas as pd
messages = pd.read_csv("../data/sample_messages.csv")
labels = pd.read_csv("../data/labels.csv")
messages.head()

# Cell 2: Rule-based demo
from detector.rule_based import is_smishing
for msg in messages['message_text']:
    print(f"{msg} → Smishing? {is_smishing(msg)}")

# Cell 3: ML demo
from detector.ml_classifier import clf, predict_message
for msg in messages['message_text']:
    print(f"{msg} → ML prediction: {predict_message(msg)}")
